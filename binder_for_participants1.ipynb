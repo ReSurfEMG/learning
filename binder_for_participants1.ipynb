{
 "cells": [
  {
   "cell_type": "markdown",
   "id": "81d1f0ab",
   "metadata": {},
   "source": [
    "Dear colleagues, \n",
    "\n",
    "We hope those of you without a computer programming or technology background will enjoy this online activity. \n",
    "\n",
    "\n",
    "We wrote it to bring our less computationally technical colleagues up to speed about how  \n",
    "\n",
    "this software for EMG analysis works technically, and how code can help you understand it.  \n",
    "\n",
    "For those of you who already write Python code, please feel free to skip our learning notebooks.  \n",
    "\n",
    "For those of you who have no idea what code is, or what Python is, we will start from the very beginning. \n",
    "\n",
    "  \n",
    "\n",
    "With friendly greetings, \n",
    "\n",
    "Drs. Candace Makeda Moore, Eline Mos-Oppersma, and Walter Baccinelli "
   ]
  },
  {
   "cell_type": "markdown",
   "id": "c301ebd1",
   "metadata": {},
   "source": [
    "1. What on earth is this thing?\n",
    "You are running a Jupyter binder.\n",
    "This is an interface which has cells which can execute code.\n",
    "Not all cells can execute code. Some, like this cell are markdown cells. \n",
    "But when you press play as in the cell below, it will execute\n",
    "code."
   ]
  },
  {
   "cell_type": "code",
   "execution_count": 1,
   "id": "7a3bc3f1",
   "metadata": {},
   "outputs": [
    {
     "data": {
      "text/plain": [
       "4"
      ]
     },
     "execution_count": 1,
     "metadata": {},
     "output_type": "execute_result"
    }
   ],
   "source": [
    "# press play or hit shift+enter\n",
    "2+2"
   ]
  },
  {
   "cell_type": "markdown",
   "id": "bfd1e9f0",
   "metadata": {},
   "source": [
    "Now go to the cell above, change the numbers and press play again.\n",
    "Try entering a word \n",
    "`2 + love` for example. Doesn't work. Read the error.\n",
    "When you are done playing with the cell, continue below \n",
    "(and be aware when you start running larger pieces of code the little * in front of your line means your machine is still processing, you might want to wait)"
   ]
  },
  {
   "cell_type": "code",
   "execution_count": 2,
   "id": "46796507",
   "metadata": {},
   "outputs": [
    {
     "data": {
      "text/plain": [
       "4"
      ]
     },
     "execution_count": 2,
     "metadata": {},
     "output_type": "execute_result"
    }
   ],
   "source": [
    "# press play\n",
    "love = 2\n",
    "2+love"
   ]
  },
  {
   "cell_type": "markdown",
   "id": "2744d867",
   "metadata": {},
   "source": [
    "So you see in both cells we evaluated 2+ love. It only worked the second time\n",
    "because we had defined what love was. It became a variable. And by the way, \n",
    "congrats if you wrote your first Python code here. Python is a popular programming language.\n",
    "You will learn a bit more about why we chose it for EMG research at our workshop.\n",
    "For now let's explore some basic data types, and how Python deals with them. \n",
    "Check out the cell below:"
   ]
  },
  {
   "cell_type": "code",
   "execution_count": 3,
   "id": "aa3e5993",
   "metadata": {},
   "outputs": [
    {
     "name": "stdout",
     "output_type": "stream",
     "text": [
      "strings are text\n",
      "numbers can be different data types\n",
      "print is a function that tells my computer to print\n"
     ]
    }
   ],
   "source": [
    "print('strings are text')\n",
    "print('numbers can be different data types')\n",
    "print('print is a function that tells my computer to print')"
   ]
  },
  {
   "cell_type": "markdown",
   "id": "4c9718b4",
   "metadata": {},
   "source": [
    "print() is one of the most useful functions \n",
    "for any programmer, because we can print out intermediate results as\n",
    "we create a larger function. \n",
    "So what about this mysterious statement 'numbers can be different data types.'\n",
    "Our computer has different ways we can tell it to store numbers:\n",
    "    as integers, or as floats\n",
    "    "
   ]
  },
  {
   "cell_type": "code",
   "execution_count": 4,
   "id": "baacace0",
   "metadata": {},
   "outputs": [
    {
     "name": "stdout",
     "output_type": "stream",
     "text": [
      "1\n",
      "1.0\n"
     ]
    }
   ],
   "source": [
    "print(int(1))\n",
    "print(float(1))"
   ]
  },
  {
   "cell_type": "code",
   "execution_count": 5,
   "id": "966ae49a",
   "metadata": {},
   "outputs": [
    {
     "name": "stdout",
     "output_type": "stream",
     "text": [
      "2\n",
      "2.5\n"
     ]
    }
   ],
   "source": [
    "print(int(5/2))\n",
    "print(float(5/2))"
   ]
  },
  {
   "cell_type": "code",
   "execution_count": 6,
   "id": "7db4ec63",
   "metadata": {},
   "outputs": [
    {
     "name": "stdout",
     "output_type": "stream",
     "text": [
      "1\n",
      "1.6666666666666667\n"
     ]
    }
   ],
   "source": [
    "print(int(5/3))\n",
    "print(float(5/3))"
   ]
  },
  {
   "cell_type": "markdown",
   "id": "7dbc6e82",
   "metadata": {},
   "source": [
    "Get the point? These little differences in data types can make a big difference when you deal in big data.\n",
    "Let's be explicit about syntax. Think about the following statement before you produce a result\n",
    "print(float(5/'3'))"
   ]
  },
  {
   "cell_type": "code",
   "execution_count": 7,
   "id": "437d1623",
   "metadata": {},
   "outputs": [
    {
     "ename": "TypeError",
     "evalue": "unsupported operand type(s) for /: 'int' and 'str'",
     "output_type": "error",
     "traceback": [
      "\u001b[1;31m---------------------------------------------------------------------------\u001b[0m",
      "\u001b[1;31mTypeError\u001b[0m                                 Traceback (most recent call last)",
      "Input \u001b[1;32mIn [7]\u001b[0m, in \u001b[0;36m<cell line: 1>\u001b[1;34m()\u001b[0m\n\u001b[1;32m----> 1\u001b[0m \u001b[38;5;28mprint\u001b[39m(\u001b[38;5;28mfloat\u001b[39m(\u001b[38;5;241;43m5\u001b[39;49m\u001b[38;5;241;43m/\u001b[39;49m\u001b[38;5;124;43m'\u001b[39;49m\u001b[38;5;124;43m3\u001b[39;49m\u001b[38;5;124;43m'\u001b[39;49m))\n",
      "\u001b[1;31mTypeError\u001b[0m: unsupported operand type(s) for /: 'int' and 'str'"
     ]
    }
   ],
   "source": [
    "print(float(5/'3'))"
   ]
  },
  {
   "cell_type": "markdown",
   "id": "8547d80a",
   "metadata": {},
   "source": [
    "That's right you tried to do something (division) between two types where Python won't let you do that. And you got an error. Let's talk about a few more basic data types useful for working with EMG data. To see the data type you can print(type(data)). What types are the following data (in Python) a, b and c:\n",
    "\n",
    "a = [1,2,3,4,5,5]\n",
    "b = (1,2)\n",
    "c =  '10'\n",
    "\n",
    "We wrote these variables into a code cell below:"
   ]
  },
  {
   "cell_type": "code",
   "execution_count": null,
   "id": "0c21e21c",
   "metadata": {},
   "outputs": [],
   "source": [
    "a = [1,2,3,4,5,5]\n",
    "b = (1,2)\n",
    "c = '10'\n",
    "d = {'key1':20, 'key2':30}\n",
    "e = \"more than one way to make a string\""
   ]
  },
  {
   "cell_type": "code",
   "execution_count": null,
   "id": "3cc66671",
   "metadata": {},
   "outputs": [],
   "source": [
    "# this is a cell for you to figure it out\n"
   ]
  },
  {
   "cell_type": "markdown",
   "id": "37813e50",
   "metadata": {},
   "source": [
    "'dict' is short for dictionary. What is a dictionary? Data stored in in key:value pairs. Try executing the cell below:"
   ]
  },
  {
   "cell_type": "code",
   "execution_count": null,
   "id": "1be56763",
   "metadata": {},
   "outputs": [],
   "source": [
    "print(d['key1'])"
   ]
  },
  {
   "cell_type": "markdown",
   "id": "24ac9d47",
   "metadata": {},
   "source": [
    "Can we write a function to print all our new variables together? "
   ]
  },
  {
   "cell_type": "code",
   "execution_count": null,
   "id": "17053eba",
   "metadata": {},
   "outputs": [],
   "source": [
    "def slap_together():\n",
    "    print(a, b, c, d)\n",
    "slap_together()\n",
    "    "
   ]
  },
  {
   "cell_type": "markdown",
   "id": "319ad390",
   "metadata": {},
   "source": [
    "So if you could follow this notebook, you were actually learning a bit of syntax for Python, without being told so explicitly. You know a list goes in brackets i.e. , a tuple goes in parenthesis, a string goes in single or double qoutes, and a dictionary goes in curly braces. You know that functions are defined with a certain structure. What is a function? Practically speaking it is code you can re-use by calling it. That is not a computer science definition, but our goal is not to make you a computer scientist here. You just need to have some clue what the technical people around you are talking about when they do research on EMGs. WHich gets to the point, what is an EMG in terms of how researchers examine them with code?  "
   ]
  },
  {
   "cell_type": "markdown",
   "id": "f53632b1",
   "metadata": {},
   "source": [
    "EMGs are a type of file that can be read into your computer. The file is a strucured sets of data. The data includes many data types, but the signal is a group of arrays (one for each lead). You can think of arrays as a special kind of list. We can use already written groups of functions in libraries to deal with arrays, and graph them. We will also use a libraries to help us make fake (synthetic) EMGs. Normally in any notebook or code all the imports should be at the top, but this is a special binder made to teach you step-by-step how to deal with Python"
   ]
  },
  {
   "cell_type": "code",
   "execution_count": 10,
   "id": "903ef003",
   "metadata": {},
   "outputs": [],
   "source": [
    "# import libraries\n",
    "\n",
    "import matplotlib.pyplot as plt\n",
    "import numpy as np\n",
    "import math"
   ]
  },
  {
   "cell_type": "code",
   "execution_count": 11,
   "id": "8007a5ab",
   "metadata": {},
   "outputs": [
    {
     "data": {
      "text/plain": [
       "Text(0, 0.5, 'EMG (a.u.)')"
      ]
     },
     "execution_count": 11,
     "metadata": {},
     "output_type": "execute_result"
    },
    {
     "data": {
      "image/png": "[encoded data removed]",
      "text/plain": [
       "<Figure size 432x288 with 1 Axes>"
      ]
     },
     "metadata": {
      "needs_background": "light"
     },
     "output_type": "display_data"
    }
   ],
   "source": [
    "x = np.linspace(0, 20, 10000)\n",
    "raised_sin = np.sin(x*6/60*2*math.pi)**2\n",
    "synth_emg1 = raised_sin * np.random.randn((len(x)))+ 0.1 * np.random.randn(len(x))\n",
    "#longt = \n",
    "plt.plot(x,synth_emg1 )#'.^2 .* randn(length(t),1) + 0.1 * randn(length(t), 1))\n",
    "plt.xlabel('Time (sec)')\n",
    "plt.ylabel('EMG (a.u.)')"
   ]
  },
  {
   "cell_type": "markdown",
   "id": "f5037b8f",
   "metadata": {},
   "source": [
    "Magical? Hardly. Let's take a look at what we have here."
   ]
  },
  {
   "cell_type": "code",
   "execution_count": 15,
   "id": "351a514b",
   "metadata": {},
   "outputs": [
    {
     "data": {
      "text/plain": [
       "array([0.00000000e+00, 2.00020002e-03, 4.00040004e-03, ...,\n",
       "       1.99959996e+01, 1.99979998e+01, 2.00000000e+01])"
      ]
     },
     "execution_count": 15,
     "metadata": {},
     "output_type": "execute_result"
    }
   ],
   "source": [
    "x = np.linspace(0, 20, 10000)\n",
    "x"
   ]
  },
  {
   "cell_type": "markdown",
   "id": "f012ad92",
   "metadata": {},
   "source": [
    "The cell above uses numpy library to make an array. We then display it. If we apply a bit of math to this array, we can transform it into something that looks vaguely like a processed respiratory EMG. We can then use matplotlib to graph it. "
   ]
  },
  {
   "cell_type": "markdown",
   "id": "f217cca0",
   "metadata": {},
   "source": [
    "Let's recap all we hope to have learned in this binder:\n",
    "    1. what is a variable?\n",
    "    2. what are some common data types I can have in Python\n",
    "    3. what is a function, in practical terms\n",
    "    4. What is my EMG made of in terms of how the computer sees it."
   ]
  }
 ],
 "metadata": {
  "kernelspec": {
   "display_name": "Python 3 (ipykernel)",
   "language": "python",
   "name": "python3"
  },
  "language_info": {
   "codemirror_mode": {
    "name": "ipython",
    "version": 3
   },
   "file_extension": ".py",
   "mimetype": "text/x-python",
   "name": "python",
   "nbconvert_exporter": "python",
   "pygments_lexer": "ipython3",
   "version": "3.9.7"
  }
 },
 "nbformat": 4,
 "nbformat_minor": 5
}
